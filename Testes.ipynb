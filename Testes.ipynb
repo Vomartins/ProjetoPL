{
 "cells": [
  {
   "cell_type": "code",
   "execution_count": 1,
   "metadata": {},
   "outputs": [],
   "source": [
    "import numpy as np\n",
    "from simplexPL import PL"
   ]
  },
  {
   "cell_type": "code",
   "execution_count": 2,
   "metadata": {},
   "outputs": [
    {
     "name": "stdout",
     "output_type": "stream",
     "text": [
      "Quantas variáveis o problema possui? 4\n",
      "Quantas restrições o problema possui? 2\n"
     ]
    }
   ],
   "source": [
    "n = int(input(\"Quantas variáveis o problema possui? \"))\n",
    "m = int(input(\"Quantas restrições o problema possui? \"))"
   ]
  },
  {
   "cell_type": "code",
   "execution_count": 3,
   "metadata": {},
   "outputs": [
    {
     "name": "stdout",
     "output_type": "stream",
     "text": [
      "Digite os elementos do vetor c de custos:\n",
      "c1: -1\n",
      "c2: 2\n",
      "c3: 0\n",
      "c4: 0\n",
      "\n",
      "\n",
      "Digite os elementos da matriz A de coeficientes das restrições:\n",
      "a11: 1\n",
      "a12: 1\n",
      "a13: -1\n",
      "a14: 0\n",
      "\n",
      "\n",
      "a21: -1\n",
      "a22: 1\n",
      "a23: 0\n",
      "a24: -1\n",
      "\n",
      "\n",
      "Digite os elementos do vetor b das restrições:\n",
      "b1: 2\n",
      "b2: 1\n",
      "\n",
      "\n",
      "O seu PPL não possui uma base B (igual a identidade 2x2) factível.\n",
      "Gostaria de usar o método de duas fases[f] ou o BigM[M]? M\n",
      "M\n",
      "[[0. 0.]\n",
      " [0. 0.]]\n",
      "\n",
      "\n",
      "[0. 0. 0. 0.]\n",
      "[1. 2. 3. 4.]\n"
     ]
    }
   ],
   "source": [
    "pl = PL(n, m)"
   ]
  },
  {
   "cell_type": "code",
   "execution_count": 4,
   "metadata": {},
   "outputs": [
    {
     "data": {
      "text/plain": [
       "array([[1., 0.],\n",
       "       [0., 1.]])"
      ]
     },
     "execution_count": 4,
     "metadata": {},
     "output_type": "execute_result"
    }
   ],
   "source": [
    "M = pl.I - pl.B\n",
    "M"
   ]
  },
  {
   "cell_type": "code",
   "execution_count": 5,
   "metadata": {},
   "outputs": [
    {
     "data": {
      "text/plain": [
       "array([[0., 0., 1., 0.],\n",
       "       [0., 0., 0., 1.]])"
      ]
     },
     "execution_count": 5,
     "metadata": {},
     "output_type": "execute_result"
    }
   ],
   "source": [
    "pl.B = np.append(pl.B, M, axis=1)\n",
    "pl.B"
   ]
  },
  {
   "cell_type": "code",
   "execution_count": 6,
   "metadata": {},
   "outputs": [],
   "source": [
    "#M = np.reshape(np.array([M[:,l] for l in range(pl.m) if (M[:, l] != np.zeros((pl.m,1))).any()]),(pl.m, pl.m - pl.C))\n",
    "M = np.transpose(np.array([M[:,l] for l in range(pl.m) if (M[:, l] != np.zeros((pl.m,1))).any()]))\n",
    "#pl.B = np.reshape(np.array([pl.B[:,l] for l in range(pl.m) if (pl.B[:, l] != np.zeros((pl.m,1))).any()]),(pl.m, pl.C))\n",
    "pl.B = np.transpose(np.array([pl.B[:,l] for l in range(pl.n) if (pl.B[:, l] != np.zeros((pl.m,1))).any()]))"
   ]
  },
  {
   "cell_type": "code",
   "execution_count": 7,
   "metadata": {},
   "outputs": [
    {
     "name": "stdout",
     "output_type": "stream",
     "text": [
      "[[1. 0.]\n",
      " [0. 1.]]\n",
      "[[1. 0.]\n",
      " [0. 1.]]\n"
     ]
    }
   ],
   "source": [
    "print(M)\n",
    "print(pl.B)"
   ]
  },
  {
   "cell_type": "code",
   "execution_count": 8,
   "metadata": {},
   "outputs": [
    {
     "data": {
      "text/plain": [
       "array([[ 1.,  1., -1.,  0.,  1.,  0.],\n",
       "       [-1.,  1.,  0., -1.,  0.,  1.]])"
      ]
     },
     "execution_count": 8,
     "metadata": {},
     "output_type": "execute_result"
    }
   ],
   "source": [
    "pl.A = np.append(pl.A, M, axis=1)\n",
    "pl.A"
   ]
  },
  {
   "cell_type": "code",
   "execution_count": 9,
   "metadata": {},
   "outputs": [
    {
     "data": {
      "text/plain": [
       "array([0., 0., 0., 0., 5., 6.])"
      ]
     },
     "execution_count": 9,
     "metadata": {},
     "output_type": "execute_result"
    }
   ],
   "source": [
    "pl.vb = np.append(pl.vb, np.arange(pl.n + 1, pl.n + pl.m - pl.C + 1))\n",
    "pl.vb"
   ]
  },
  {
   "cell_type": "code",
   "execution_count": 10,
   "metadata": {},
   "outputs": [
    {
     "data": {
      "text/plain": [
       "array([1., 2., 3., 4., 0., 0.])"
      ]
     },
     "execution_count": 10,
     "metadata": {},
     "output_type": "execute_result"
    }
   ],
   "source": [
    "pl.vn = np.append(pl.vn, np.zeros((1, pl.m - pl.C)))\n",
    "pl.vn"
   ]
  },
  {
   "cell_type": "code",
   "execution_count": 11,
   "metadata": {},
   "outputs": [],
   "source": [
    "W = 10000"
   ]
  },
  {
   "cell_type": "code",
   "execution_count": 12,
   "metadata": {},
   "outputs": [
    {
     "data": {
      "text/plain": [
       "array([-1.e+00,  2.e+00,  0.e+00,  0.e+00,  1.e+04,  1.e+04])"
      ]
     },
     "execution_count": 12,
     "metadata": {},
     "output_type": "execute_result"
    }
   ],
   "source": [
    "pl.c = np.append(pl.c, np.zeros((1, pl.m - pl.C)))\n",
    "for i in range(pl.n + pl.m - pl.C):\n",
    "    if i >= pl.n:\n",
    "        pl.c[i] = W\n",
    "pl.c"
   ]
  },
  {
   "cell_type": "code",
   "execution_count": 13,
   "metadata": {},
   "outputs": [
    {
     "data": {
      "text/plain": [
       "array([10000., 10000.])"
      ]
     },
     "execution_count": 13,
     "metadata": {},
     "output_type": "execute_result"
    }
   ],
   "source": [
    "pl.vb = np.array([l for l in pl.vb if l != 0])\n",
    "for i in range(pl.m):\n",
    "    pl.cb[i] = pl.c[int(pl.vb[i])-1]\n",
    "pl.cb"
   ]
  },
  {
   "cell_type": "code",
   "execution_count": 14,
   "metadata": {},
   "outputs": [
    {
     "data": {
      "text/plain": [
       "array([0., 0., 0., 0.])"
      ]
     },
     "execution_count": 14,
     "metadata": {},
     "output_type": "execute_result"
    }
   ],
   "source": [
    "pl.cn = np.append(pl.cn, np.zeros((1, pl.m - pl.C)))\n",
    "pl.cn"
   ]
  },
  {
   "cell_type": "code",
   "execution_count": 15,
   "metadata": {},
   "outputs": [
    {
     "data": {
      "text/plain": [
       "array([-1.,  2.,  0.,  0.])"
      ]
     },
     "execution_count": 15,
     "metadata": {},
     "output_type": "execute_result"
    }
   ],
   "source": [
    "pl.vn = np.array([l for l in pl.vn if l != 0])\n",
    "for i in range(pl.n - pl.C):\n",
    "    pl.cn[i] = pl.c[int(pl.vn[i])-1]\n",
    "pl.cn"
   ]
  },
  {
   "cell_type": "code",
   "execution_count": 16,
   "metadata": {},
   "outputs": [
    {
     "data": {
      "text/plain": [
       "array([0., 0., 0., 0.])"
      ]
     },
     "execution_count": 16,
     "metadata": {},
     "output_type": "execute_result"
    }
   ],
   "source": [
    "pl.r = np.append(pl.r, np.zeros((1, pl.m - pl.C)))\n",
    "pl.r"
   ]
  },
  {
   "cell_type": "code",
   "execution_count": 17,
   "metadata": {},
   "outputs": [
    {
     "data": {
      "text/plain": [
       "4"
      ]
     },
     "execution_count": 17,
     "metadata": {},
     "output_type": "execute_result"
    }
   ],
   "source": [
    "pl.o = pl.n - pl.C\n",
    "pl.o"
   ]
  },
  {
   "cell_type": "code",
   "execution_count": 18,
   "metadata": {},
   "outputs": [
    {
     "name": "stdout",
     "output_type": "stream",
     "text": [
      "Iteração: 1\n",
      "xb = [2. 1.]\n",
      "z: 30000.0\n",
      "lb = [10000. 10000.]\n",
      "r = [-1.0000e+00 -1.9998e+04  1.0000e+04  1.0000e+04]\n",
      "Variável que entra : 2.0\n",
      "direção = [1. 1.]\n",
      "passo = [2. 1.]\n",
      "Variável que sai: 6.0\n",
      "vb = [5. 2.]\n",
      "cb = [1.e+04 2.e+00]\n",
      "vn = [1. 6. 3. 4.]\n",
      "cn = [-1.e+00  1.e+04  0.e+00  0.e+00]\n",
      "B = [[1. 1.]\n",
      " [0. 1.]]\n",
      "\n",
      "\n",
      "Iteração: 2\n",
      "xb = [1. 1.]\n",
      "z: 10002.0\n",
      "lb = [10000. -9998.]\n",
      "r = [-19999.  19998.  10000.  -9998.]\n",
      "Variável que entra : 1.0\n",
      "direção = [ 2. -1.]\n",
      "passo = [0.5        2.71828183]\n",
      "Variável que sai: 5.0\n",
      "vb = [1. 2.]\n",
      "cb = [-1.  2.]\n",
      "vn = [5. 6. 3. 4.]\n",
      "cn = [10000. 10000.     0.     0.]\n",
      "B = [[ 1.  1.]\n",
      " [-1.  1.]]\n",
      "\n",
      "\n",
      "Iteração: 3\n",
      "xb = [0.5 1.5]\n",
      "z: 2.5\n",
      "lb = [0.5 1.5]\n",
      "r = [9.9995e+03 9.9985e+03 5.0000e-01 1.5000e+00]\n",
      "A solução foi encontrada\n",
      "xb = [0.5 1.5]\n",
      "vb = [1. 2.]\n",
      "vn = [5. 6. 3. 4.]\n",
      "Valor da função objetivo: 2.5\n"
     ]
    }
   ],
   "source": [
    "pl.Simplex()"
   ]
  }
 ],
 "metadata": {
  "kernelspec": {
   "display_name": "Python 3",
   "language": "python",
   "name": "python3"
  },
  "language_info": {
   "codemirror_mode": {
    "name": "ipython",
    "version": 3
   },
   "file_extension": ".py",
   "mimetype": "text/x-python",
   "name": "python",
   "nbconvert_exporter": "python",
   "pygments_lexer": "ipython3",
   "version": "3.6.5"
  }
 },
 "nbformat": 4,
 "nbformat_minor": 2
}
