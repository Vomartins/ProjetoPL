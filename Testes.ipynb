{
 "cells": [
  {
   "cell_type": "code",
   "execution_count": 1,
   "metadata": {},
   "outputs": [],
   "source": [
    "from simplexPL import PL"
   ]
  },
  {
   "cell_type": "code",
   "execution_count": 2,
   "metadata": {},
   "outputs": [
    {
     "name": "stdout",
     "output_type": "stream",
     "text": [
      "Digite os elementos do vetor b de custos:\n",
      "c0: -1\n",
      "c1: -3\n",
      "c2: 0\n",
      "c3: 0\n",
      "\n",
      "\n",
      "Digite os elementos da matriz A de coeficientes das restrições:\n",
      "a11: 1\n",
      "a12: 1\n",
      "a13: 1\n",
      "a14: 0\n",
      "\n",
      "\n",
      "a21: 0\n",
      "a22: 1\n",
      "a23: 0\n",
      "a24: 1\n",
      "\n",
      "\n",
      "Digite os elementos do vetor b das restrições:\n",
      "b0: 6\n",
      "b1: 3\n",
      "\n",
      "\n",
      "O seu PPL já possui uma base B (igual a identidade 2x2) factível.\n",
      "[[1. 0.]\n",
      " [0. 1.]]\n",
      "\n",
      "\n",
      "[0. 0. 2. 3.]\n",
      "[0. 1. 0. 0.]\n"
     ]
    }
   ],
   "source": [
    "n = 4\n",
    "m = 2\n",
    "pl = PL(n, m)"
   ]
  },
  {
   "cell_type": "code",
   "execution_count": 3,
   "metadata": {},
   "outputs": [],
   "source": [
    "import numpy as np"
   ]
  },
  {
   "cell_type": "code",
   "execution_count": 4,
   "metadata": {},
   "outputs": [
    {
     "name": "stdout",
     "output_type": "stream",
     "text": [
      "[6. 3.]\n"
     ]
    }
   ],
   "source": [
    "xb = np.linalg.solve(pl.B, pl.b)\n",
    "print(xb)"
   ]
  },
  {
   "cell_type": "code",
   "execution_count": 5,
   "metadata": {},
   "outputs": [
    {
     "name": "stdout",
     "output_type": "stream",
     "text": [
      "[0. 0.]\n"
     ]
    }
   ],
   "source": [
    "lb = np.linalg.solve(pl.B.transpose(), pl.c[2:4])\n",
    "print(lb)"
   ]
  },
  {
   "cell_type": "code",
   "execution_count": 10,
   "metadata": {},
   "outputs": [
    {
     "name": "stdout",
     "output_type": "stream",
     "text": [
      "[0. 1. 0. 0.]\n",
      "[0. 0. 2. 3.]\n",
      "[-1. -3.  0.  0.]\n",
      "[0. 1. 0. 0.]\n",
      "[0. 0. 2. 3.]\n",
      "[-1. -3.]\n",
      "1.0\n"
     ]
    }
   ],
   "source": [
    "r = np.zeros(pl.n)\n",
    "auxn = np.array([0])\n",
    "\n",
    "for i in range(pl.n):\n",
    "    if pl.vb[i] == 0:\n",
    "        r[i] = pl.c[i] - np.dot(lb, pl.A[:, i])\n",
    "        \n",
    "print(pl.vn)\n",
    "print(pl.vb)\n",
    "print(r)\n",
    " \n",
    "'''    \n",
    "for i in range(pl.n):\n",
    "    if pl.vn[i] == 0:\n",
    "        auxn = np.append(auxn, i)\n",
    "        \n",
    "auxn = np.delete(auxn, 0)\n",
    "r = np.delete(r, auxn)\n",
    "#pl.vn = np.array([l for l in pl.vn if l == 0])\n",
    "#pl.vb = np.array([l for l in pl.vb if l == 0])\n",
    "'''\n",
    "r = np.array([l for l in r if l != 0])\n",
    "\n",
    "print(pl.vn)\n",
    "print(pl.vb)\n",
    "print(r)\n",
    "       \n",
    "if (r >= 0).all():\n",
    "    print('A solução foi encontrada')\n",
    "else:\n",
    "    a = pl.vn[np.argmin(r)]\n",
    "    print(a)"
   ]
  },
  {
   "cell_type": "code",
   "execution_count": 11,
   "metadata": {},
   "outputs": [
    {
     "name": "stdout",
     "output_type": "stream",
     "text": [
      "[1. 1.]\n",
      "[-6. -3.]\n",
      "0.0\n"
     ]
    }
   ],
   "source": [
    "a = int(a)\n",
    "d = np.linalg.solve(pl.B, pl.A[:, a])\n",
    "print(d)\n",
    "\n",
    "E = np.zeros(pl.m)\n",
    "for i in range(pl.m):\n",
    "    if d[i] > 0:\n",
    "        E[i] = -(xb[i]/d[i])\n",
    "    else:\n",
    "        E[i] = 0\n",
    "        \n",
    "b = pl.vb[np.argmax(E)]\n",
    "\n",
    "print(E)\n",
    "print(b)"
   ]
  },
  {
   "cell_type": "code",
   "execution_count": null,
   "metadata": {},
   "outputs": [],
   "source": []
  }
 ],
 "metadata": {
  "kernelspec": {
   "display_name": "Python 3",
   "language": "python",
   "name": "python3"
  },
  "language_info": {
   "codemirror_mode": {
    "name": "ipython",
    "version": 3
   },
   "file_extension": ".py",
   "mimetype": "text/x-python",
   "name": "python",
   "nbconvert_exporter": "python",
   "pygments_lexer": "ipython3",
   "version": "3.6.5"
  }
 },
 "nbformat": 4,
 "nbformat_minor": 2
}
