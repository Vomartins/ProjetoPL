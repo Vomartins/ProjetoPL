{
 "cells": [
  {
   "cell_type": "code",
   "execution_count": 1,
   "metadata": {},
   "outputs": [],
   "source": [
    "from simplexPL import PL"
   ]
  },
  {
   "cell_type": "code",
   "execution_count": 6,
   "metadata": {},
   "outputs": [
    {
     "name": "stdout",
     "output_type": "stream",
     "text": [
      "Quantas variáveis o problema possui? 5\n",
      "Quantas restrições o problema possui? 3\n"
     ]
    }
   ],
   "source": [
    "n = int(input(\"Quantas variáveis o problema possui? \"))\n",
    "m = int(input(\"Quantas restrições o problema possui? \"))"
   ]
  },
  {
   "cell_type": "code",
   "execution_count": 8,
   "metadata": {},
   "outputs": [
    {
     "name": "stdout",
     "output_type": "stream",
     "text": [
      "Digite os elementos do vetor c de custos:\n",
      "c1: 1\n",
      "c2: 1\n",
      "c3: 0\n",
      "c4: 0\n",
      "c5: 0\n",
      "\n",
      "\n",
      "Digite os elementos da matriz A de coeficientes das restrições:\n",
      "a11: 1\n",
      "a12: 1\n",
      "a13: 1\n",
      "a14: 0\n",
      "a15: 0\n",
      "\n",
      "\n",
      "a21: 0\n",
      "a22: 2\n",
      "a23: 0\n",
      "a24: -1\n",
      "a25: 0\n",
      "\n",
      "\n",
      "a31: 3\n",
      "a32: 1\n",
      "a33: 0\n",
      "a34: 0\n",
      "a35: -1\n",
      "\n",
      "\n",
      "Digite os elementos do vetor b das restrições:\n",
      "b1: 2\n",
      "b2: 2\n",
      "b3: 2\n",
      "\n",
      "\n",
      "O seu PPL não possui uma base B (igual a identidade 3x3) factível.\n",
      "Gostaria de usar o método de duas fases[f] ou o BigM[M]? f\n",
      "f\n",
      "[[1. 0. 0.]\n",
      " [0. 0. 0.]\n",
      " [0. 0. 0.]]\n",
      "\n",
      "\n",
      "[0. 0. 3. 0. 0.]\n",
      "[1. 2. 0. 4. 5.]\n"
     ]
    }
   ],
   "source": [
    "pl = PL(n, m)"
   ]
  },
  {
   "cell_type": "code",
   "execution_count": null,
   "metadata": {},
   "outputs": [],
   "source": []
  }
 ],
 "metadata": {
  "kernelspec": {
   "display_name": "Python 3",
   "language": "python",
   "name": "python3"
  },
  "language_info": {
   "codemirror_mode": {
    "name": "ipython",
    "version": 3
   },
   "file_extension": ".py",
   "mimetype": "text/x-python",
   "name": "python",
   "nbconvert_exporter": "python",
   "pygments_lexer": "ipython3",
   "version": "3.6.5"
  }
 },
 "nbformat": 4,
 "nbformat_minor": 2
}
