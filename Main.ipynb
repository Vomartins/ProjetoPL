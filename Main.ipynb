{
 "cells": [
  {
   "cell_type": "code",
   "execution_count": 1,
   "metadata": {},
   "outputs": [],
   "source": [
    "from simplexPL import PL"
   ]
  },
  {
   "cell_type": "code",
   "execution_count": 2,
   "metadata": {},
   "outputs": [
    {
     "name": "stdout",
     "output_type": "stream",
     "text": [
      "Quantas variáveis o problema possui? 4\n",
      "Quantas restrições o problema possui? 2\n",
      "Quantas variáveis originais(não de folg) o problema possui? 2\n"
     ]
    }
   ],
   "source": [
    "n = int(input(\"Quantas variáveis o problema possui? \"))\n",
    "m = int(input(\"Quantas restrições o problema possui? \"))\n",
    "o = int(input(\"Quantas variáveis originais(não de folg) o problema possui? \"))"
   ]
  },
  {
   "cell_type": "code",
   "execution_count": 3,
   "metadata": {},
   "outputs": [
    {
     "name": "stdout",
     "output_type": "stream",
     "text": [
      "Digite os elementos do vetor c de custos:\n",
      "c1: -1\n",
      "c2: 2\n",
      "c3: 0\n",
      "c4: 0\n",
      "\n",
      "\n",
      "Digite os elementos da matriz A de coeficientes das restrições:\n",
      "a11: 1\n",
      "a12: 1\n",
      "a13: -1\n",
      "a14: 0\n",
      "\n",
      "\n",
      "a21: -1\n",
      "a22: 1\n",
      "a23: 0\n",
      "a24: -1\n",
      "\n",
      "\n",
      "Digite os elementos do vetor b das restrições:\n",
      "b1: 2\n",
      "b2: 1\n",
      "\n",
      "\n",
      "O seu PPL não possui uma base B (igual a identidade 2x2) factível.\n",
      "Gostaria de usar o método de duas fases[f] ou o BigM[M]? M\n",
      "M\n",
      "[[0. 0.]\n",
      " [0. 0.]]\n",
      "\n",
      "\n",
      "[0. 0. 0. 0.]\n",
      "[1. 2. 3. 4.]\n",
      "\n",
      "\n",
      "Iteração: 1\n",
      "xb = [2. 1.]\n",
      "z: 22.16716829679195\n",
      "lb = [7.3890561 7.3890561]\n",
      "r = [ -1.        -12.7781122   7.3890561   7.3890561]\n",
      "Variável que entra : 2.0\n",
      "direção = [1. 1.]\n",
      "passo = [2. 1.]\n",
      "Variável que sai: 6.0\n",
      "vb = [5. 2.]\n",
      "cb = [7.3890561 2.       ]\n",
      "vn = [1. 6. 3. 4.]\n",
      "cn = [-1.         7.3890561  0.         0.       ]\n",
      "B = [[1. 1.]\n",
      " [0. 1.]]\n",
      "\n",
      "\n",
      "Iteração: 2\n",
      "xb = [1. 1.]\n",
      "z: 9.38905609893065\n",
      "lb = [ 7.3890561 -5.3890561]\n",
      "r = [-13.7781122  12.7781122   7.3890561  -5.3890561]\n",
      "Variável que entra : 1.0\n",
      "direção = [ 2. -1.]\n",
      "passo = [0.5        2.71828183]\n",
      "Variável que sai: 5.0\n",
      "vb = [1. 2.]\n",
      "cb = [-1.  2.]\n",
      "vn = [5. 6. 3. 4.]\n",
      "cn = [7.3890561 7.3890561 0.        0.       ]\n",
      "B = [[ 1.  1.]\n",
      " [-1.  1.]]\n",
      "\n",
      "\n",
      "Iteração: 3\n",
      "xb = [0.5 1.5]\n",
      "z: 2.5\n",
      "lb = [0.5 1.5]\n",
      "r = [6.8890561 5.8890561 0.5       1.5      ]\n",
      "A solução foi encontrada\n",
      "xb = [0.5 1.5]\n",
      "vb = [1. 2.]\n",
      "vn = [5. 6. 3. 4.]\n",
      "Valor da função objetivo: 2.5\n"
     ]
    }
   ],
   "source": [
    "pl = PL(n, m, o)"
   ]
  },
  {
   "cell_type": "code",
   "execution_count": null,
   "metadata": {},
   "outputs": [],
   "source": []
  }
 ],
 "metadata": {
  "kernelspec": {
   "display_name": "Python 3",
   "language": "python",
   "name": "python3"
  },
  "language_info": {
   "codemirror_mode": {
    "name": "ipython",
    "version": 3
   },
   "file_extension": ".py",
   "mimetype": "text/x-python",
   "name": "python",
   "nbconvert_exporter": "python",
   "pygments_lexer": "ipython3",
   "version": "3.6.5"
  }
 },
 "nbformat": 4,
 "nbformat_minor": 2
}
