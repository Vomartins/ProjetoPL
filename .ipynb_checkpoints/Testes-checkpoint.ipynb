{
 "cells": [
  {
   "cell_type": "code",
   "execution_count": 1,
   "metadata": {},
   "outputs": [],
   "source": [
    "import numpy as np\n",
    "from simplexPL import PL"
   ]
  },
  {
   "cell_type": "code",
   "execution_count": 2,
   "metadata": {},
   "outputs": [
    {
     "name": "stdout",
     "output_type": "stream",
     "text": [
      "Quantas variáveis o problema possui? 6\n",
      "Quantas restrições o problema possui? 3\n"
     ]
    }
   ],
   "source": [
    "n = int(input(\"Quantas variáveis o problema possui? \"))\n",
    "m = int(input(\"Quantas restrições o problema possui? \"))"
   ]
  },
  {
   "cell_type": "code",
   "execution_count": 3,
   "metadata": {},
   "outputs": [
    {
     "name": "stdout",
     "output_type": "stream",
     "text": [
      "Digite os elementos do vetor c de custos:\n",
      "c1: -2\n",
      "c2: 1\n",
      "c3: -1\n",
      "c4: 0\n",
      "c5: 0\n",
      "c6: 0\n",
      "\n",
      "\n",
      "Digite os elementos da matriz A de coeficientes das restrições:\n",
      "a11: 2\n",
      "a12: 1\n",
      "a13: -2\n",
      "a14: 1\n",
      "a15: 0\n",
      "a16: 0\n",
      "\n",
      "\n",
      "a21: 4\n",
      "a22: -1\n",
      "a23: 2\n",
      "a24: 0\n",
      "a25: -1\n",
      "a26: 0\n",
      "\n",
      "\n",
      "a31: 2\n",
      "a32: 3\n",
      "a33: -1\n",
      "a34: 0\n",
      "a35: 0\n",
      "a36: -1\n",
      "\n",
      "\n",
      "Digite os elementos do vetor b das restrições:\n",
      "b1: 8\n",
      "b2: 2\n",
      "b3: 4\n",
      "\n",
      "\n",
      "O seu PPL não possui uma base B (igual a identidade 3x3) factível.\n",
      "Gostaria de usar o método de duas fases[f] ou o BigM[M]? f\n",
      "f\n",
      "[[1. 0. 0.]\n",
      " [0. 0. 0.]\n",
      " [0. 0. 0.]]\n",
      "\n",
      "\n",
      "[0. 0. 0. 4. 0. 0.]\n",
      "[1. 2. 3. 0. 5. 6.]\n"
     ]
    }
   ],
   "source": [
    "pl = PL(n, m)"
   ]
  },
  {
   "cell_type": "code",
   "execution_count": 4,
   "metadata": {},
   "outputs": [
    {
     "data": {
      "text/plain": [
       "array([[0., 0., 0.],\n",
       "       [0., 1., 0.],\n",
       "       [0., 0., 1.]])"
      ]
     },
     "execution_count": 4,
     "metadata": {},
     "output_type": "execute_result"
    }
   ],
   "source": [
    "M = pl.I - pl.B\n",
    "M"
   ]
  },
  {
   "cell_type": "code",
   "execution_count": 5,
   "metadata": {},
   "outputs": [],
   "source": [
    "#M = np.reshape(np.array([M[:,l] for l in range(pl.m) if (M[:, l] != np.zeros((pl.m,1))).any()]),(pl.m, pl.m - pl.C))\n",
    "M = np.transpose(np.array([M[:,l] for l in range(pl.m) if (M[:, l] != np.zeros((pl.m,1))).any()]))\n",
    "#pl.B = np.reshape(np.array([pl.B[:,l] for l in range(pl.m) if (pl.B[:, l] != np.zeros((pl.m,1))).any()]),(pl.m, pl.C))\n",
    "pl.B = np.transpose(np.array([pl.B[:,l] for l in range(pl.m) if (pl.B[:, l] != np.zeros((pl.m,1))).any()]))"
   ]
  },
  {
   "cell_type": "code",
   "execution_count": 6,
   "metadata": {},
   "outputs": [
    {
     "name": "stdout",
     "output_type": "stream",
     "text": [
      "[[0. 0.]\n",
      " [1. 0.]\n",
      " [0. 1.]]\n",
      "[[1.]\n",
      " [0.]\n",
      " [0.]]\n"
     ]
    }
   ],
   "source": [
    "print(M)\n",
    "print(pl.B)"
   ]
  },
  {
   "cell_type": "code",
   "execution_count": 7,
   "metadata": {},
   "outputs": [
    {
     "data": {
      "text/plain": [
       "array([[1., 0., 0.],\n",
       "       [0., 1., 0.],\n",
       "       [0., 0., 1.]])"
      ]
     },
     "execution_count": 7,
     "metadata": {},
     "output_type": "execute_result"
    }
   ],
   "source": [
    "pl.B = np.append(pl.B, M, axis=1)\n",
    "pl.B"
   ]
  },
  {
   "cell_type": "code",
   "execution_count": 8,
   "metadata": {},
   "outputs": [
    {
     "data": {
      "text/plain": [
       "array([[ 2.,  1., -2.,  1.,  0.,  0.,  0.,  0.],\n",
       "       [ 4., -1.,  2.,  0., -1.,  0.,  1.,  0.],\n",
       "       [ 2.,  3., -1.,  0.,  0., -1.,  0.,  1.]])"
      ]
     },
     "execution_count": 8,
     "metadata": {},
     "output_type": "execute_result"
    }
   ],
   "source": [
    "pl.A = np.append(pl.A, M, axis=1)\n",
    "pl.A"
   ]
  },
  {
   "cell_type": "code",
   "execution_count": 9,
   "metadata": {},
   "outputs": [
    {
     "data": {
      "text/plain": [
       "array([0., 0., 0., 4., 0., 0., 7., 8.])"
      ]
     },
     "execution_count": 9,
     "metadata": {},
     "output_type": "execute_result"
    }
   ],
   "source": [
    "pl.vb = np.append(pl.vb, np.arange(pl.n + 1, pl.n + pl.m - pl.C + 1))\n",
    "pl.vb"
   ]
  },
  {
   "cell_type": "code",
   "execution_count": 10,
   "metadata": {},
   "outputs": [
    {
     "data": {
      "text/plain": [
       "array([1., 2., 3., 0., 5., 6., 0., 0.])"
      ]
     },
     "execution_count": 10,
     "metadata": {},
     "output_type": "execute_result"
    }
   ],
   "source": [
    "pl.vn = np.append(pl.vn, np.zeros((1, pl.m - pl.C)))\n",
    "pl.vn"
   ]
  },
  {
   "cell_type": "code",
   "execution_count": 11,
   "metadata": {},
   "outputs": [
    {
     "data": {
      "text/plain": [
       "array([0., 1., 1.])"
      ]
     },
     "execution_count": 11,
     "metadata": {},
     "output_type": "execute_result"
    }
   ],
   "source": [
    "pl.vb = np.array([l for l in pl.vb if l != 0])\n",
    "for i in range(pl.m):\n",
    "    if pl.vb[i] >= pl.n + 1 :\n",
    "        pl.cb[i] = 1\n",
    "pl.cb"
   ]
  },
  {
   "cell_type": "code",
   "execution_count": 12,
   "metadata": {},
   "outputs": [
    {
     "data": {
      "text/plain": [
       "array([0., 0., 0., 0., 0.])"
      ]
     },
     "execution_count": 12,
     "metadata": {},
     "output_type": "execute_result"
    }
   ],
   "source": [
    "pl.cn = np.append(pl.cn, np.zeros((1, pl.m - pl.C)))\n",
    "pl.cn"
   ]
  },
  {
   "cell_type": "code",
   "execution_count": 13,
   "metadata": {},
   "outputs": [
    {
     "data": {
      "text/plain": [
       "array([-2.,  1., -1.,  0.,  0.])"
      ]
     },
     "execution_count": 13,
     "metadata": {},
     "output_type": "execute_result"
    }
   ],
   "source": [
    "pl.vn = np.array([l for l in pl.vn if l != 0])\n",
    "for i in range(pl.n - pl.C):\n",
    "    pl.cn[i] = pl.c[int(pl.vn[i])-1]\n",
    "pl.cn"
   ]
  },
  {
   "cell_type": "code",
   "execution_count": 14,
   "metadata": {},
   "outputs": [
    {
     "data": {
      "text/plain": [
       "array([0., 0., 0., 0., 0.])"
      ]
     },
     "execution_count": 14,
     "metadata": {},
     "output_type": "execute_result"
    }
   ],
   "source": [
    "pl.r = np.append(pl.r, np.zeros((1, pl.m - pl.C)))\n",
    "pl.r"
   ]
  },
  {
   "cell_type": "code",
   "execution_count": 15,
   "metadata": {},
   "outputs": [
    {
     "data": {
      "text/plain": [
       "5"
      ]
     },
     "execution_count": 15,
     "metadata": {},
     "output_type": "execute_result"
    }
   ],
   "source": [
    "pl.o = pl.n - pl.C\n",
    "pl.o"
   ]
  },
  {
   "cell_type": "code",
   "execution_count": 16,
   "metadata": {},
   "outputs": [
    {
     "data": {
      "text/plain": [
       "array([-2.,  1., -1.,  0.,  0.,  0.,  1.,  1.])"
      ]
     },
     "execution_count": 16,
     "metadata": {},
     "output_type": "execute_result"
    }
   ],
   "source": [
    "pl.c = np.append(pl.c, np.ones((1, pl.m - pl.C)))\n",
    "pl.c"
   ]
  },
  {
   "cell_type": "code",
   "execution_count": 17,
   "metadata": {},
   "outputs": [
    {
     "name": "stdout",
     "output_type": "stream",
     "text": [
      "Iteração: 1\n",
      "xb = [8. 2. 4.]\n",
      "lb = [0. 1. 1.]\n",
      "r = [-8. -1. -2.  1.  1.]\n",
      "Variável que entra : 1.0\n",
      "direção = [2. 4. 2.]\n",
      "passo = [4.  0.5 2. ]\n",
      "Variável que sai: 7.0\n",
      "vb = [4. 1. 8.]\n",
      "cb = [ 0. -2.  1.]\n",
      "vn = [7. 2. 3. 5. 6.]\n",
      "cn = [ 1.  1. -1.  0.  0.]\n",
      "B = [[1. 2. 0.]\n",
      " [0. 4. 0.]\n",
      " [0. 2. 1.]]\n",
      "\n",
      "\n",
      "Iteração: 2\n",
      "xb = [7.  0.5 3. ]\n",
      "lb = [ 0. -1.  1.]\n",
      "r = [ 2. -3.  2. -1.  1.]\n",
      "Variável que entra : 2.0\n",
      "direção = [ 1.5  -0.25  3.5 ]\n",
      "passo = [4.66666667e+00 1.09663316e+03 8.57142857e-01]\n",
      "Variável que sai: 8.0\n",
      "vb = [4. 1. 2.]\n",
      "cb = [ 0. -2.  1.]\n",
      "vn = [7. 8. 3. 5. 6.]\n",
      "cn = [ 1.  1. -1.  0.  0.]\n",
      "B = [[ 1.  2.  1.]\n",
      " [ 0.  4. -1.]\n",
      " [ 0.  2.  3.]]\n",
      "\n",
      "\n",
      "Iteração: 3\n",
      "xb = [5.71428571 0.71428571 0.85714286]\n",
      "lb = [ 2.22044605e-16 -5.71428571e-01  1.42857143e-01]\n",
      "r = [ 1.57142857  0.85714286  0.28571429 -0.57142857  0.14285714]\n",
      "Variável que entra : 5.0\n",
      "direção = [ 0.28571429 -0.21428571  0.14285714]\n",
      "passo = [ 20.         303.16757768   6.        ]\n",
      "Variável que sai: 2.0\n",
      "vb = [4. 1. 5.]\n",
      "cb = [ 0. -2.  0.]\n",
      "vn = [7. 8. 3. 2. 6.]\n",
      "cn = [ 1.  1. -1.  1.  0.]\n",
      "B = [[ 1.  2.  0.]\n",
      " [ 0.  4. -1.]\n",
      " [ 0.  2.  0.]]\n",
      "\n",
      "\n",
      "Iteração: 4\n",
      "xb = [4. 2. 6.]\n",
      "lb = [ 0. -0. -1.]\n",
      "r = [ 1.  2. -2.  4. -1.]\n",
      "Variável que entra : 3.0\n",
      "direção = [-1.  -0.5 -4. ]\n",
      "A solução é ilimitada\n",
      "xb = [4. 2. 6.]\n",
      "vb = [4. 1. 5.]\n",
      "vn = [7. 8. 3. 2. 6.]\n"
     ]
    }
   ],
   "source": [
    "pl.Simplex()"
   ]
  },
  {
   "cell_type": "code",
   "execution_count": null,
   "metadata": {},
   "outputs": [],
   "source": [
    "        "
   ]
  }
 ],
 "metadata": {
  "kernelspec": {
   "display_name": "Python 3",
   "language": "python",
   "name": "python3"
  },
  "language_info": {
   "codemirror_mode": {
    "name": "ipython",
    "version": 3
   },
   "file_extension": ".py",
   "mimetype": "text/x-python",
   "name": "python",
   "nbconvert_exporter": "python",
   "pygments_lexer": "ipython3",
   "version": "3.6.5"
  }
 },
 "nbformat": 4,
 "nbformat_minor": 2
}
